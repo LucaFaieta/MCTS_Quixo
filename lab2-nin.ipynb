{
 "cells": [
  {
   "cell_type": "markdown",
   "metadata": {
    "pycharm": {
     "name": "#%% md\n"
    }
   },
   "source": [
    "Copyright **`(c)`** 2022 Giovanni Squillero `<squillero@polito.it>`  \n",
    "[`https://github.com/squillero/computational-intelligence`](https://github.com/squillero/computational-intelligence)  \n",
    "Free for personal or classroom use; see [`LICENSE.md`](https://github.com/squillero/computational-intelligence/blob/master/LICENSE.md) for details.  \n"
   ]
  },
  {
   "cell_type": "markdown",
   "metadata": {
    "pycharm": {
     "name": "#%%\n"
    }
   },
   "source": [
    "# Lab 3: ES\n",
    "\n",
    "## Task\n",
    "\n",
    "Write agents able to play [*Nim*](https://en.wikipedia.org/wiki/Nim), with an arbitrary number of rows and an upper bound $k$ on the number of objects that can be removed in a turn (a.k.a., *subtraction game*).\n",
    "\n",
    "The goal of the game is to **avoid** taking the last object.\n",
    "\n",
    "* Task2.1: An agent using fixed rules based on *nim-sum* (i.e., an *expert system*)\n",
    "* Task2.2: An agent using evolved rules using ES\n",
    "\n",
    "## Instructions\n",
    "\n",
    "* Create the directory `lab2` inside your personal course repository for the course \n",
    "* Put a `README.md` and your solution (all the files, code and auxiliary data if needed)\n",
    "\n",
    "## Notes\n",
    "\n",
    "* Working in group is not only allowed, but recommended (see: [Ubuntu](https://en.wikipedia.org/wiki/Ubuntu_philosophy) and [Cooperative Learning](https://files.eric.ed.gov/fulltext/EJ1096789.pdf)). Collaborations must be explicitly declared in the `README.md`.\n",
    "* [Yanking](https://www.emacswiki.org/emacs/KillingAndYanking) from the internet is allowed, but sources must be explicitly declared in the `README.md`.\n",
    "\n"
   ]
  },
  {
   "cell_type": "code",
   "execution_count": 4,
   "metadata": {},
   "outputs": [],
   "source": [
    "import logging\n",
    "from pprint import pprint, pformat\n",
    "from collections import namedtuple\n",
    "from random import random, choice, randint\n",
    "from copy import deepcopy,copy\n",
    "from dataclasses import dataclass"
   ]
  },
  {
   "cell_type": "markdown",
   "metadata": {},
   "source": [
    "## The *Nim* and *Nimply* classes"
   ]
  },
  {
   "cell_type": "code",
   "execution_count": 5,
   "metadata": {},
   "outputs": [],
   "source": [
    "Nimply = namedtuple(\"Nimply\", \"row, num_objects\")\n"
   ]
  },
  {
   "cell_type": "code",
   "execution_count": 6,
   "metadata": {},
   "outputs": [],
   "source": [
    "class Nim:\n",
    "    def __init__(self, num_rows: int, k: int = None) -> None:\n",
    "        self._rows = [i * 2 + 1 for i in range(num_rows)]\n",
    "        self._k = k\n",
    "\n",
    "    def __bool__(self):\n",
    "        return sum(self._rows) > 0\n",
    "\n",
    "    def __str__(self):\n",
    "        return \"<\" + \" \".join(str(_) for _ in self._rows) + \">\"\n",
    "\n",
    "    @property\n",
    "    def rows(self) -> tuple:\n",
    "        return tuple(self._rows)\n",
    "\n",
    "    def nimming(self, ply: Nimply) -> None:\n",
    "        row, num_objects = ply\n",
    "        assert self._rows[row] >= num_objects\n",
    "        assert self._k is None or num_objects <= self._k\n",
    "        self._rows[row] -= num_objects\n"
   ]
  },
  {
   "cell_type": "code",
   "execution_count": null,
   "metadata": {},
   "outputs": [],
   "source": [
    "TOURNAMENT_SIZE = 2\n",
    "NUM_POPULATIONS = 100\n",
    "MUTATION_PROBABILITY = .15 \n",
    "DIM_CHROM = 15\n",
    "OPERATIONS = [\"+\",\"-\",\"*\",\"/\",\"and\",\"%\",\"or\",\"not\",\"xor\"]"
   ]
  },
  {
   "cell_type": "code",
   "execution_count": null,
   "metadata": {},
   "outputs": [],
   "source": [
    "@dataclass\n",
    "class Gene:\n",
    "    fitness: tuple\n",
    "    genotype: list[str]\n",
    "    self_expression : int\n",
    "\n",
    "    def get_expression(self, position_tuple) ->int:\n",
    "        self_expression = self.recursive_decoder(len(self.expr)-1, position_tuple)\n",
    "        return self_expression\n",
    "    \n",
    "    def mutate(self, state: Nim) -> None:\n",
    "        offspring = copy(self)\n",
    "        pos = randint(0, len(self.genotype)-1)\n",
    "        if len(offspring.genotype[pos]) == 1:\n",
    "            offspring.genotype[pos] = str(randint(0,len(state._rows)-1))\n",
    "        else:\n",
    "            offspring[pos][0] = OPERATIONS[randint(0,len(OPERATIONS) - 1)]\n",
    "        offspring.fitness = None\n",
    "        return offspring\n",
    "\n",
    "def select_parent(pop):\n",
    "    pool = [choice(pop) for _ in range(TOURNAMENT_SIZE)]\n",
    "    champion = max(pool, key=lambda i: i.fitness)\n",
    "    return champion\n",
    "\n",
    "\n",
    "\n",
    "def one_cut_xover(ind1: Gene, ind2: Gene) -> Gene:\n",
    "    cut_point = randint(0, ind1.genotype-1)\n",
    "    offspring = Gene(fitness=None,\n",
    "                           genotype=ind1.genotype[:cut_point] + ind2.genotype[cut_point:])\n",
    "    assert len(offspring.genotype) == len(ind1.genotype)\n",
    "    return offspring\n",
    "\n",
    "def recursive_decoder(self : str, index, position_tuple):\n",
    "        if len(self[index] == 1):    \n",
    "            return position_tuple[self.expr[index]]\n",
    "        else:                                       #checks the operator and calls recursively\n",
    "            operator = self.expr[index][0]\n",
    "            if operator==\"+\":\n",
    "                op1 = self.recursive_decoder(self.expr[index][1], position_tuple)\n",
    "                op2 = self.recursive_decoder(self.expr[index][2], position_tuple)\n",
    "                return op1+op2\n",
    "            if operator==\"*\":\n",
    "                op1 = self.recursive_decoder(self.expr[index][1], position_tuple)\n",
    "                op2 = self.recursive_decoder(self.expr[index][2], position_tuple)\n",
    "                return op1*op2\n",
    "            if operator==\"-\":\n",
    "                op1 = self.recursive_decoder(self.expr[index][1], position_tuple)\n",
    "                op2 = self.recursive_decoder(self.expr[index][2], position_tuple)\n",
    "                return abs(op1-op2)\n",
    "            if operator==\"%\":\n",
    "                op1 = self.recursive_decoder(self.expr[index][1], position_tuple)\n",
    "                op2 = self.recursive_decoder(self.expr[index][2], position_tuple)\n",
    "                return op1%op2\n",
    "            if operator==\"and\":\n",
    "                op1 = self.recursive_decoder(self.expr[index][1], position_tuple)\n",
    "                op2 = self.recursive_decoder(self.expr[index][2], position_tuple)\n",
    "                return op1&op2\n",
    "            if operator==\"or\":\n",
    "                op1 = self.recursive_decoder(self.expr[index][1], position_tuple)\n",
    "                op2 = self.recursive_decoder(self.expr[index][2], position_tuple)\n",
    "                return op1|op2\n",
    "            if operator==\"xor\":\n",
    "                op1 = self.recursive_decoder(self.expr[index][1], position_tuple)\n",
    "                op2 = self.recursive_decoder(self.expr[index][2], position_tuple)\n",
    "                return op1^op2\n",
    "\n",
    "\n",
    "    \n",
    "def fitness_function(self : Gene, gameTree) -> int:\n",
    "    fit_container = [0]\n",
    "    gameTree.set_NP(self)\n",
    "    gameTree.traverse_tree(gameTree.nodes[0], None, fit_container)\n",
    "    fit = fit_container[0]\n",
    "    return fit"
   ]
  },
  {
   "cell_type": "code",
   "execution_count": null,
   "metadata": {},
   "outputs": [],
   "source": [
    "class TreeNode:\n",
    "    def __init__(self, dots, is_visited=False):\n",
    "        self.dots = dots  \n",
    "        self.position_type = False  \n",
    "        self.father = None  \n",
    "        self.children = []\n",
    "\n",
    "    def add_father(self, father_node):\n",
    "        self.father = father_node\n",
    "\n",
    "    def add_child(self, child_node):\n",
    "        self.children.append(child_node)\n",
    "    \n",
    "    def check_rules(self):\n",
    "        flag = 0\n",
    "        if self.position_type == True: #no P after a P\n",
    "            for child in self.children:\n",
    "                if child.position_type == True:\n",
    "                    flag = 1\n",
    "                    break\n",
    "        if self.position_type == False: #at least one P after a N\n",
    "            flag = 1\n",
    "            for child in self.children:\n",
    "                if child.position_type == True:\n",
    "                    flag = 0\n",
    "                    break\n",
    "        if sum(self.dots)==0:       #terminal step should be P\n",
    "            if self.position_type == False:\n",
    "                flag = 1\n",
    "        return flag\n",
    "\n",
    "\n",
    "class Tree:\n",
    "    def __init__(self, dots):\n",
    "        self.nodes = []\n",
    "        starting_node = self.add_node(dots)\n",
    "\n",
    "        def createNode(current_node, current_tuple):\n",
    "            for i, value in enumerate(current_tuple):\n",
    "                for new_value in range(value, -1, -1):\n",
    "                    if new_value != value:\n",
    "                        new_tuple = current_tuple[:i] + (new_value,) + current_tuple[i + 1:]\n",
    "                        new_node = self.add_node(new_tuple)\n",
    "                        self.add_edge(current_node, new_node)\n",
    "                        createNode(new_node, new_tuple)\n",
    "\n",
    "        createNode(starting_node, dots)\n",
    "\n",
    "    def add_node(self, dots, is_visited=False):\n",
    "        new_node = TreeNode(dots, is_visited)\n",
    "        self.nodes.append(new_node)\n",
    "        return new_node\n",
    "\n",
    "    def add_edge(self, father, child):\n",
    "        father.add_child(child)\n",
    "        child.add_father(father)\n",
    "    \n",
    "    def traverse_tree(self, node, chromosome : Gene = None, score_container=None):\n",
    "        if score_container is None:\n",
    "            score_container = [0]\n",
    "        \n",
    "        # traversing to set NP #############################\n",
    "        if chromosome is not None:\n",
    "            current_score = chromosome.get_expression(node.dots)\n",
    "            if current_score == 0:\n",
    "                node.position_type = True\n",
    "            else:\n",
    "                node.position_type = False\n",
    "        ####################################################\n",
    "\n",
    "        \n",
    "        # traversing to get fitness ########################\n",
    "        else:\n",
    "            current_score = node.check_rules()\n",
    "            score_container[0] += current_score\n",
    "        ####################################################\n",
    "\n",
    "        for child in node.children:\n",
    "            self.traverse_tree(child, chromosome, score_container)\n",
    "        \n",
    "\n",
    "    def set_NP(self, chromosome):\n",
    "        self.traverse_tree(self.nodes[0], chromosome)"
   ]
  },
  {
   "cell_type": "code",
   "execution_count": null,
   "metadata": {},
   "outputs": [],
   "source": [
    "def creation(start, end) -> str:\n",
    "    add1 = randint(start-1,end-1)\n",
    "    return str(add1)\n",
    "\n",
    "def create_population(state : Nim):\n",
    "    rows = len(state._rows)\n",
    "    operations = copy(OPERATIONS)\n",
    "    nodi = list[str]\n",
    "    popolazione = list[Gene]\n",
    "    for i in range (rows):\n",
    "        nodi.append(str(i))\n",
    "        operations.append(str(i))\n",
    "    for i in range(NUM_POPULATIONS):\n",
    "        cromo = list[str]\n",
    "        for k in range(0,DIM_CHROM):\n",
    "            if k < 2:\n",
    "                op = creation(1,len(nodi))\n",
    "            else:\n",
    "                op = creation(1,len(operations))\n",
    "                if int(op) < len(OPERATIONS):\n",
    "                    add1 = creation(1,len(cromo))\n",
    "                    add2 = creation(1,len(cromo))\n",
    "                    while add1 == str(k):            \n",
    "                        add1 = creation(1,len(cromo))\n",
    "                    while add2 == str(k) and add2 == add1:\n",
    "                        add2 = creation(1,len(cromo))\n",
    "                    op = op + add1 + add2\n",
    "            cromo.append(op)\n",
    "        if sum(len(stringa) for stringa in cromo) == len(cromo):\n",
    "            i -= 1\n",
    "        else:\n",
    "            gene = Gene(genotype = cromo, fitness = None, self_expression = None)\n",
    "            popolazione.append(gene)\n",
    "\n",
    "def run(pop: list[Gene], state : Nim) -> list[Gene]:\n",
    "    for k in range(0,len(pop),4):\n",
    "        p1 = randint(0,3)\n",
    "        p2 = randint(0,3)\n",
    "        while(p1 == p2):\n",
    "            p1 = randint(0,3)\n",
    "        son = generazione(pop[k+p1],pop[k+p2],state)\n",
    "        gene = min(pop[k:k+4],key=lambda i: i.fitness)\n",
    "        if son.fitness > gene.fitness:\n",
    "            counter = 0\n",
    "            while gene != pop[k+counter]: counter += 1\n",
    "            pop[k+counter] =  son\n",
    "    return pop\n",
    "    \n",
    "        \n",
    "\n",
    "def generazione(parent1 : Gene, parent2 : Gene, state: Nim) -> Gene:\n",
    "    new = one_cut_xover(parent1,parent2)\n",
    "    if(random < MUTATION_PROBABILITY):\n",
    "        new = mutate(parent1,parent2,state)\n",
    "    new.fitness = fitness_function()\n",
    "    return new"
   ]
  },
  {
   "cell_type": "markdown",
   "metadata": {},
   "source": [
    "## Sample (and silly) startegies "
   ]
  },
  {
   "cell_type": "code",
   "execution_count": 7,
   "metadata": {},
   "outputs": [],
   "source": [
    "def pure_random(state: Nim) -> Nimply:\n",
    "    \"\"\"A completely random move\"\"\"\n",
    "    row = random.choice([r for r, c in enumerate(state.rows) if c > 0])\n",
    "    num_objects = random.randint(1, state.rows[row])\n",
    "    return Nimply(row, num_objects)\n"
   ]
  },
  {
   "cell_type": "code",
   "execution_count": 8,
   "metadata": {},
   "outputs": [],
   "source": [
    "def gabriele(state: Nim) -> Nimply:\n",
    "    \"\"\"Pick always the maximum possible number of the lowest row\"\"\"\n",
    "    possible_moves = [(r, o) for r, c in enumerate(state.rows) for o in range(1, c + 1)]\n",
    "    return Nimply(*max(possible_moves, key=lambda m: (-m[0], m[1])))\n"
   ]
  },
  {
   "cell_type": "code",
   "execution_count": 9,
   "metadata": {},
   "outputs": [],
   "source": [
    "def adaptive(state: Nim) -> Nimply:\n",
    "    \"\"\"A strategy that can adapt its parameters\"\"\"\n",
    "    genome = {\"love_small\": 0.5}\n"
   ]
  },
  {
   "cell_type": "code",
   "execution_count": 10,
   "metadata": {},
   "outputs": [],
   "source": [
    "import numpy as np\n",
    "\n",
    "\n",
    "def nim_sum(state: Nim) -> int:\n",
    "    tmp = np.array([tuple(int(x) for x in f\"{c:032b}\") for c in state.rows])\n",
    "    xor = tmp.sum(axis=0) % 2\n",
    "    return int(\"\".join(str(_) for _ in xor), base=2)\n",
    "\n",
    "\n",
    "def analize(raw: Nim) -> dict:\n",
    "    cooked = dict()\n",
    "    cooked[\"possible_moves\"] = dict()\n",
    "    for ply in (Nimply(r, o) for r, c in enumerate(raw.rows) for o in range(1, c + 1)):\n",
    "        tmp = deepcopy(raw)\n",
    "        tmp.nimming(ply)\n",
    "        cooked[\"possible_moves\"][ply] = nim_sum(tmp)\n",
    "    return cooked\n",
    "\n",
    "\n",
    "def optimal(state: Nim) -> Nimply:\n",
    "    analysis = analize(state)\n",
    "    logging.debug(f\"analysis:\\n{pformat(analysis)}\")\n",
    "    spicy_moves = [ply for ply, ns in analysis[\"possible_moves\"].items() if ns != 0]\n",
    "    if not spicy_moves:\n",
    "        spicy_moves = list(analysis[\"possible_moves\"].keys())\n",
    "    ply = random.choice(spicy_moves)\n",
    "    return ply\n"
   ]
  },
  {
   "cell_type": "markdown",
   "metadata": {},
   "source": [
    "# Evolutionary Strategy\n",
    "## Chromosome and Tree classes"
   ]
  },
  {
   "cell_type": "code",
   "execution_count": 16,
   "metadata": {},
   "outputs": [],
   "source": [
    "\n",
    "    "
   ]
  },
  {
   "cell_type": "code",
   "execution_count": 12,
   "metadata": {},
   "outputs": [],
   "source": []
  },
  {
   "cell_type": "code",
   "execution_count": null,
   "metadata": {},
   "outputs": [],
   "source": []
  },
  {
   "cell_type": "markdown",
   "metadata": {},
   "source": [
    "## Oversimplified match"
   ]
  },
  {
   "cell_type": "code",
   "execution_count": 18,
   "metadata": {},
   "outputs": [
    {
     "name": "stdout",
     "output_type": "stream",
     "text": [
      "fitness 1 is 0\n",
      "fitness 2 is 2648\n"
     ]
    }
   ],
   "source": [
    "nim = Nim(3)\n",
    "gameTree = Tree(nim.rows)\n",
    "ch1 = Chromosome((0, 1, (\"xor\",0,1), 2, (\"xor\", 2, 3)))\n",
    "ch2 = Chromosome((0, 1, (\"and\",0,1), 2, (\"or\", 2, 3)))\n",
    "\n",
    "print(f\"fitness 1 is {ch1.fitness_function(gameTree)}\")\n",
    "print(f\"fitness 2 is {ch2.fitness_function(gameTree)}\")\n",
    "logging.info(f\"{nim}\")\n",
    "\n",
    "#player = 0\n",
    "#while nim:\n",
    "#    ply = strategy[player](nim)\n",
    "#    logging.info(f\"ply: player {player} plays {ply}\")\n",
    "#    nim.nimming(ply)\n",
    "#    logging.info(f\"status: {nim}\")\n",
    "#    player = 1 - player\n",
    "#logging.info(f\"status: Player {player} won!\")\n"
   ]
  }
 ],
 "metadata": {
  "kernelspec": {
   "display_name": "Python 3.10.7 ('ci22-dPIXJ0_o-py3.10')",
   "language": "python",
   "name": "python3"
  },
  "language_info": {
   "codemirror_mode": {
    "name": "ipython",
    "version": 3
   },
   "file_extension": ".py",
   "mimetype": "text/x-python",
   "name": "python",
   "nbconvert_exporter": "python",
   "pygments_lexer": "ipython3",
   "version": "3.12.0"
  },
  "vscode": {
   "interpreter": {
    "hash": "10197e8e2f2aa67e2c349105091c77f4cd384fce4877865f002d9ec653f96bc0"
   }
  }
 },
 "nbformat": 4,
 "nbformat_minor": 2
}
